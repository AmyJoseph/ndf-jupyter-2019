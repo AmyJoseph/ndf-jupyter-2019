{
 "cells": [
  {
   "cell_type": "markdown",
   "metadata": {},
   "source": [
    "Start with a play example and then loop back\n",
    "* What is programming\n",
    "* What is Python\n",
    "* What is Jupyter\n",
    "* What is this Binder?"
   ]
  },
  {
   "cell_type": "markdown",
   "metadata": {},
   "source": [
    "\\*play example goes here\\*\n",
    "\n",
    "DigitalNZ [Insert URL]"
   ]
  },
  {
   "cell_type": "markdown",
   "metadata": {},
   "source": [
    "### What is programming?\n",
    "\n",
    "from [*Python for Informatics: Exploring Information* by Charles Severance](http://www.pythonlearn.com/html-270/index.html):\n",
    "\n",
    "> *\\[The\\] fact that computers are good at things that humans are not is why you need to become skilled at talking “computer language”. Once you learn this new language, you can delegate mundane tasks to your partner (the computer), leaving more time for you to do the things that you are uniquely suited for. You bring creativity, intuition, and inventiveness to this partnership.*\n",
    "\n",
    "> *In a sense, you need two skills to be a programmer:* <br>\n",
    "* *First, you need to know the programming language (Python) - you need to know the vocabulary and the grammar. You need to be able to spell the words in this new language properly and know how to construct well-formed “sentences” in this new language.*\n",
    "\n",
    "Programs called **interpreters** also understand the vocabulary and grammar of a particular language and translate it into instructions for the computer to carry out.\n",
    "\n",
    ">* *Second, you need to “tell a story”. In writing a story, you combine words and sentences to convey an idea to the reader. There is a skill and art in constructing the story, and skill in story writing is improved by doing some writing and getting some feedback. In programming, our program is the “story” and the problem you are trying to solve is the “idea”.*\n",
    "\n",
    "Part of learning how to code (or how to collaborate with programmers) is learning how to think programmatically, breaking down a task that needs to be done (the \"idea\") into a series of logical steps.\n",
    "\n",
    "\n"
   ]
  },
  {
   "cell_type": "markdown",
   "metadata": {},
   "source": [
    "### Why Python?\n",
    "\n",
    "<img src=\"https://s3.us-east-1.amazonaws.com/qz-production-atlas-assets/charts/atlas_BJlUylxqQ@2x.png\" alt=\"Chart showing most popular programming languages on Stack Overflow to 2018. Python is second and tracking upward\" width=50%>\n",
    "\n",
    "* \"General purpose\" programming language\n",
    "* Compared to many other programming languages, Python is simple for humans to read and write\n",
    "* Huge number of third party libraries extend functionality without having to write lots of code from scratch\n",
    "* Great for rapid prototyping and iteration (and play!)\n",
    "* Extremely popular for automation and data science, making it well suited for GLAM professionals\n",
    "* Emerging as a leading language for machine learning\n"
   ]
  },
  {
   "cell_type": "markdown",
   "metadata": {},
   "source": [
    "### What is Jupyter?\n",
    "\n",
    "Once you have Python installed on your computer, there are a few different ways you can run Python code. These include the command line/terminal or from a code editor or integrated development environment (IDE). Jupyter is a browser-based development environment, which allow users to create \"computational notebooks\".\n",
    "\n",
    "These notebooks can contain “computational narratives” by supplementing working code and datasets with analysis, hypotheses, explanations and other text, and displaying graphical outputs like graphs and figures. The format can drive exploration, iteration and play, and notebooks are increasingly used as teaching and learning tools.\n",
    "\n",
    "A Jupyter notebook has two components. Users input code or text in cells in a front-end web page. The browser then passes that code to a back-end ‘kernel’, which runs the code and returns the results. The kernal can be on your local machine or on a remote computer.\n"
   ]
  },
  {
   "cell_type": "markdown",
   "metadata": {},
   "source": [
    "### What is Binder?\n",
    "\n",
    "https://mybinder.org/"
   ]
  },
  {
   "cell_type": "code",
   "execution_count": null,
   "metadata": {},
   "outputs": [],
   "source": []
  },
  {
   "cell_type": "code",
   "execution_count": null,
   "metadata": {},
   "outputs": [],
   "source": []
  }
 ],
 "metadata": {
  "kernelspec": {
   "display_name": "Python 3",
   "language": "python",
   "name": "python3"
  },
  "language_info": {
   "codemirror_mode": {
    "name": "ipython",
    "version": 3
   },
   "file_extension": ".py",
   "mimetype": "text/x-python",
   "name": "python",
   "nbconvert_exporter": "python",
   "pygments_lexer": "ipython3",
   "version": "3.7.0"
  }
 },
 "nbformat": 4,
 "nbformat_minor": 2
}
